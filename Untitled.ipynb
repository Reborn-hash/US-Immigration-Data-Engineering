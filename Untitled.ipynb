{
 "cells": [
  {
   "cell_type": "code",
   "execution_count": 10,
   "metadata": {
    "editable": true
   },
   "outputs": [],
   "source": [
    "import pandas as pd\n",
    "import os"
   ]
  },
  {
   "cell_type": "code",
   "execution_count": 17,
   "metadata": {
    "editable": true
   },
   "outputs": [],
   "source": [
    "f = '../../data/18-83510-I94-Data-2016/i94_apr16_sub.sas7bdat'"
   ]
  },
  {
   "cell_type": "code",
   "execution_count": 18,
   "metadata": {
    "editable": true
   },
   "outputs": [],
   "source": [
    "import shutil"
   ]
  },
  {
   "cell_type": "code",
   "execution_count": null,
   "metadata": {
    "editable": true
   },
   "outputs": [],
   "source": [
    "shutil.move(f,'18-83510-I94-Data-2016/i94_apr16_sub.sas7bdat')"
   ]
  },
  {
   "cell_type": "code",
   "execution_count": 12,
   "metadata": {
    "editable": true
   },
   "outputs": [],
   "source": [
    "os.chdir('../')"
   ]
  },
  {
   "cell_type": "code",
   "execution_count": 13,
   "metadata": {
    "editable": true
   },
   "outputs": [],
   "source": [
    "\n",
    "def clean_mappings(file_name):\n",
    "    \"\"\"\n",
    "    Function to clean various mappings data, including:\n",
    "        - countries.txt\n",
    "        - ports.txt\n",
    "        - state_codes.txt\n",
    "        - travel_mode.txt\n",
    "        - visa.txt\n",
    "    \n",
    "    Input: \n",
    "        file name without extension\n",
    "    \n",
    "    Returns:\n",
    "        Cleaned dataframe\n",
    "    \"\"\"\n",
    "    df = pd.read_csv(\"sas_labels/\" + file_name + '.txt', sep='=', header=None)\n",
    "    df.columns = ['code', file_name]\n",
    "    \n",
    "    df.iloc[:,1] = [n.strip().replace(\"\\'\",\"\").replace(\";\",\"\") for n in df.iloc[:,1]]\n",
    "    \n",
    "    if file_name == 'country':\n",
    "        col = []\n",
    "        for n in df.iloc[:,1]:\n",
    "            if 'no country' in n.lower() or 'invalid' in n.lower() or 'collapsed' in n.lower():\n",
    "                col.append(\"Other\")\n",
    "            else:\n",
    "                col.append(n)\n",
    "        df.iloc[:,1] = col\n",
    "        \n",
    "    elif file_name in ['state_codes', 'ports']:\n",
    "        df.iloc[:,0] = [n.strip().replace(\"\\'\",\"\").replace(\";\",\"\").replace(\"\\t\",\"\") for n in df.iloc[:,0]]   \n",
    "        \n",
    "    if file_name == 'ports':\n",
    "        split = df['ports'].str.split(\", \", n = 1, expand = True)\n",
    "        df['ports'], df['State'] = split[0], split[1]\n",
    "    \n",
    "    print(file_name+\":\", df.count())\n",
    "    assert len(df) > 0\n",
    "    return df\n"
   ]
  },
  {
   "cell_type": "code",
   "execution_count": 15,
   "metadata": {
    "editable": true
   },
   "outputs": [],
   "source": [
    "l = ['countries', 'ports', 'state_codes', 'travel_mode', 'visa']"
   ]
  },
  {
   "cell_type": "code",
   "execution_count": 16,
   "metadata": {
    "editable": true
   },
   "outputs": [
    {
     "name": "stdout",
     "output_type": "stream",
     "text": [
      "countries: code         289\n",
      "countries    289\n",
      "dtype: int64\n",
      "ports: code     660\n",
      "ports    660\n",
      "State    582\n",
      "dtype: int64\n",
      "state_codes: code           55\n",
      "state_codes    55\n",
      "dtype: int64\n",
      "travel_mode: code           4\n",
      "travel_mode    4\n",
      "dtype: int64\n",
      "visa: code    3\n",
      "visa    3\n",
      "dtype: int64\n"
     ]
    }
   ],
   "source": [
    "for n in l:\n",
    "    clean_mappings(n).to_excel(n+\".xlsx\")"
   ]
  },
  {
   "cell_type": "code",
   "execution_count": null,
   "metadata": {
    "editable": true
   },
   "outputs": [],
   "source": []
  }
 ],
 "metadata": {
  "kernelspec": {
   "display_name": "Python 3",
   "language": "python",
   "name": "python3"
  },
  "language_info": {
   "codemirror_mode": {
    "name": "ipython",
    "version": 3
   },
   "file_extension": ".py",
   "mimetype": "text/x-python",
   "name": "python",
   "nbconvert_exporter": "python",
   "pygments_lexer": "ipython3",
   "version": "3.6.3"
  }
 },
 "nbformat": 4,
 "nbformat_minor": 4
}
